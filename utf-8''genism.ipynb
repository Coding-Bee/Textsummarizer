{
  "cells": [
    {
      "metadata": {
        "trusted": true
      },
      "cell_type": "code",
      "source": "import gensim \nprint('gensim Version: %s' % (gensim.__version__))",
      "execution_count": 1,
      "outputs": [
        {
          "output_type": "stream",
          "text": "gensim Version: 3.8.0\n",
          "name": "stdout"
        }
      ]
    },
    {
      "metadata": {
        "trusted": true
      },
      "cell_type": "code",
      "source": "# sample data \n\ncontent = \"Microsoft held talks in the past few weeks \" + \\\n    \"to acquire software developer platform GitHub, Business \" + \\\n    \"Insider reports. One person familiar with the discussions \" + \\\n    \"between the companies told CNBC that they had been \" + \\\n    \"considering a joint marketing partnership valued around \" + \\\n    \"$35 million, and that those discussions had progressed to \" + \\\n    \"a possible investment or outright acquisition. It is \" + \\\n    \"unclear whether talks are still ongoing, but this \" + \\\n    \"person said that GitHub's price for a full acquisition \" + \\\n    \"was more than Microsoft currently wanted to pay. GitHub \" + \\\n    \"was last valued at $2 billion in its last funding round \" + \\\n    \"2015, but the price tag for an acquisition could be $5 \" + \\\n    \"billion or more, based on a price that was floated \" + \\\n    \"last year. GitHub's tools have become essential to \" + \\\n    \"software developers, who use it to store code, \" + \\\n    \"keep track of updates and discuss issues. The privately \" + \\\n    \"held company has more than 23 million individual users in \" + \\\n    \"more than 1.5 million organizations. It was on track to \" + \\\n    \"book more than $200 million in subscription revenue, \" + \\\n    \"including more than $110 million from companies using its \" + \\\n    \"enterprise product, GitHub told CNBC last fall.Microsoft \" + \\\n    \"has reportedly flirted with buying GitHub in the past, \" + \\\n    \"including in 2016, although GitHub denied those \" + \\\n    \"reports. A partnership would give Microsoft another \" + \\\n    \"connection point to the developers it needs to court to \" + \\\n    \"build applications on its various platforms, including \" + \\\n    \"the Azure cloud. Microsoft could also use data from \" + \\\n    \"GitHub to improve its artificial intelligence \" + \\\n    \"producs. The talks come amid GitHub's struggle to \" + \\\n    \"replace CEO and founder Chris Wanstrath, who stepped \" + \\\n    \"down 10 months ago. Business Insider reported that \" + \\\n    \"Microsoft exec Nat Friedman -- who previously \" + \\\n    \"ran Xamarin, a developer tools start-up that Microsoft \" + \\\n    \"acquired in 2016 -- may take that CEO role. Google's \" + \\\n    \"senior VP of ads and commerce, Sridhar Ramaswamy, has \" + \\\n    \"also been in discussions for the job, says the report. \" + \\\n    \"Microsoft declined to comment on the report. \" + \\\n    \"GitHub did not immediately return a request for comment.\"",
      "execution_count": 2,
      "outputs": []
    },
    {
      "metadata": {
        "trusted": true
      },
      "cell_type": "code",
      "source": "# summarizing with respect to ration of the content \nprint('Original Content:')\nprint(content)\nfor ratio in [0.3, 0.5, 0.7]:\n    summarized_content = gensim.summarization.summarize(content, ratio=ratio)\n    print()\n    print('----> Summarized Content (Ratio is %.01f):' % ratio)\n    print(summarized_content)",
      "execution_count": 3,
      "outputs": [
        {
          "output_type": "stream",
          "text": "Original Content:\nMicrosoft held talks in the past few weeks to acquire software developer platform GitHub, Business Insider reports. One person familiar with the discussions between the companies told CNBC that they had been considering a joint marketing partnership valued around $35 million, and that those discussions had progressed to a possible investment or outright acquisition. It is unclear whether talks are still ongoing, but this person said that GitHub's price for a full acquisition was more than Microsoft currently wanted to pay. GitHub was last valued at $2 billion in its last funding round 2015, but the price tag for an acquisition could be $5 billion or more, based on a price that was floated last year. GitHub's tools have become essential to software developers, who use it to store code, keep track of updates and discuss issues. The privately held company has more than 23 million individual users in more than 1.5 million organizations. It was on track to book more than $200 million in subscription revenue, including more than $110 million from companies using its enterprise product, GitHub told CNBC last fall.Microsoft has reportedly flirted with buying GitHub in the past, including in 2016, although GitHub denied those reports. A partnership would give Microsoft another connection point to the developers it needs to court to build applications on its various platforms, including the Azure cloud. Microsoft could also use data from GitHub to improve its artificial intelligence producs. The talks come amid GitHub's struggle to replace CEO and founder Chris Wanstrath, who stepped down 10 months ago. Business Insider reported that Microsoft exec Nat Friedman -- who previously ran Xamarin, a developer tools start-up that Microsoft acquired in 2016 -- may take that CEO role. Google's senior VP of ads and commerce, Sridhar Ramaswamy, has also been in discussions for the job, says the report. Microsoft declined to comment on the report. GitHub did not immediately return a request for comment.\n\n---> Summarized Content (Ratio is 0.3):\nMicrosoft held talks in the past few weeks to acquire software developer platform GitHub, Business Insider reports.\nOne person familiar with the discussions between the companies told CNBC that they had been considering a joint marketing partnership valued around $35 million, and that those discussions had progressed to a possible investment or outright acquisition.\nIt was on track to book more than $200 million in subscription revenue, including more than $110 million from companies using its enterprise product, GitHub told CNBC last fall.Microsoft has reportedly flirted with buying GitHub in the past, including in 2016, although GitHub denied those reports.\nBusiness Insider reported that Microsoft exec Nat Friedman -- who previously ran Xamarin, a developer tools start-up that Microsoft acquired in 2016 -- may take that CEO role.\n\n---> Summarized Content (Ratio is 0.5):\nMicrosoft held talks in the past few weeks to acquire software developer platform GitHub, Business Insider reports.\nOne person familiar with the discussions between the companies told CNBC that they had been considering a joint marketing partnership valued around $35 million, and that those discussions had progressed to a possible investment or outright acquisition.\nIt is unclear whether talks are still ongoing, but this person said that GitHub's price for a full acquisition was more than Microsoft currently wanted to pay.\nGitHub's tools have become essential to software developers, who use it to store code, keep track of updates and discuss issues.\nIt was on track to book more than $200 million in subscription revenue, including more than $110 million from companies using its enterprise product, GitHub told CNBC last fall.Microsoft has reportedly flirted with buying GitHub in the past, including in 2016, although GitHub denied those reports.\nBusiness Insider reported that Microsoft exec Nat Friedman -- who previously ran Xamarin, a developer tools start-up that Microsoft acquired in 2016 -- may take that CEO role.\nMicrosoft declined to comment on the report.\n\n---> Summarized Content (Ratio is 0.7):\nMicrosoft held talks in the past few weeks to acquire software developer platform GitHub, Business Insider reports.\nOne person familiar with the discussions between the companies told CNBC that they had been considering a joint marketing partnership valued around $35 million, and that those discussions had progressed to a possible investment or outright acquisition.\nIt is unclear whether talks are still ongoing, but this person said that GitHub's price for a full acquisition was more than Microsoft currently wanted to pay.\nGitHub's tools have become essential to software developers, who use it to store code, keep track of updates and discuss issues.\nThe privately held company has more than 23 million individual users in more than 1.5 million organizations.\nIt was on track to book more than $200 million in subscription revenue, including more than $110 million from companies using its enterprise product, GitHub told CNBC last fall.Microsoft has reportedly flirted with buying GitHub in the past, including in 2016, although GitHub denied those reports.\nA partnership would give Microsoft another connection point to the developers it needs to court to build applications on its various platforms, including the Azure cloud.\nBusiness Insider reported that Microsoft exec Nat Friedman -- who previously ran Xamarin, a developer tools start-up that Microsoft acquired in 2016 -- may take that CEO role.\nMicrosoft declined to comment on the report.\n",
          "name": "stdout"
        }
      ]
    },
    {
      "metadata": {
        "trusted": true
      },
      "cell_type": "code",
      "source": "#sumarizing with the no of total words in summary \nprint('Original Content:')\nprint(content)\nfor word_count in [30, 50, 100]:\n    summarized_content = gensim.summarization.summarize(content, word_count=word_count)\n    print()\n    print('---> Summarized Content (Word Count is %d):' % word_count)\n    print(summarized_content)",
      "execution_count": 4,
      "outputs": [
        {
          "output_type": "stream",
          "text": "Original Content:\nMicrosoft held talks in the past few weeks to acquire software developer platform GitHub, Business Insider reports. One person familiar with the discussions between the companies told CNBC that they had been considering a joint marketing partnership valued around $35 million, and that those discussions had progressed to a possible investment or outright acquisition. It is unclear whether talks are still ongoing, but this person said that GitHub's price for a full acquisition was more than Microsoft currently wanted to pay. GitHub was last valued at $2 billion in its last funding round 2015, but the price tag for an acquisition could be $5 billion or more, based on a price that was floated last year. GitHub's tools have become essential to software developers, who use it to store code, keep track of updates and discuss issues. The privately held company has more than 23 million individual users in more than 1.5 million organizations. It was on track to book more than $200 million in subscription revenue, including more than $110 million from companies using its enterprise product, GitHub told CNBC last fall.Microsoft has reportedly flirted with buying GitHub in the past, including in 2016, although GitHub denied those reports. A partnership would give Microsoft another connection point to the developers it needs to court to build applications on its various platforms, including the Azure cloud. Microsoft could also use data from GitHub to improve its artificial intelligence producs. The talks come amid GitHub's struggle to replace CEO and founder Chris Wanstrath, who stepped down 10 months ago. Business Insider reported that Microsoft exec Nat Friedman -- who previously ran Xamarin, a developer tools start-up that Microsoft acquired in 2016 -- may take that CEO role. Google's senior VP of ads and commerce, Sridhar Ramaswamy, has also been in discussions for the job, says the report. Microsoft declined to comment on the report. GitHub did not immediately return a request for comment.\n\n---> Summarized Content (Word Count is 30):\nMicrosoft held talks in the past few weeks to acquire software developer platform GitHub, Business Insider reports.\n\n---> Summarized Content (Word Count is 50):\nMicrosoft held talks in the past few weeks to acquire software developer platform GitHub, Business Insider reports.\nOne person familiar with the discussions between the companies told CNBC that they had been considering a joint marketing partnership valued around $35 million, and that those discussions had progressed to a possible investment or outright acquisition.\n\n---> Summarized Content (Word Count is 100):\nMicrosoft held talks in the past few weeks to acquire software developer platform GitHub, Business Insider reports.\nOne person familiar with the discussions between the companies told CNBC that they had been considering a joint marketing partnership valued around $35 million, and that those discussions had progressed to a possible investment or outright acquisition.\nIt was on track to book more than $200 million in subscription revenue, including more than $110 million from companies using its enterprise product, GitHub told CNBC last fall.Microsoft has reportedly flirted with buying GitHub in the past, including in 2016, although GitHub denied those reports.\n",
          "name": "stdout"
        }
      ]
    },
    {
      "metadata": {
        "trusted": true
      },
      "cell_type": "code",
      "source": "",
      "execution_count": null,
      "outputs": []
    }
  ],
  "metadata": {
    "kernelspec": {
      "name": "python36",
      "display_name": "Python 3.6",
      "language": "python"
    },
    "language_info": {
      "mimetype": "text/x-python",
      "nbconvert_exporter": "python",
      "name": "python",
      "pygments_lexer": "ipython3",
      "version": "3.6.6",
      "file_extension": ".py",
      "codemirror_mode": {
        "version": 3,
        "name": "ipython"
      }
    }
  },
  "nbformat": 4,
  "nbformat_minor": 2
}