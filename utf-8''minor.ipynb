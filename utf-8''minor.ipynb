{
  "cells": [
    {
      "metadata": {
        "trusted": true
      },
      "cell_type": "code",
      "source": "from gensim.summarization.summarizer import summarize\n>>> text = '''The desire for more positive experience is itself a negative experience. And, paradoxically, the acceptance of one’s negative experience is itself a positive experience.\n\nThe more you pursue feeling better all the time, the less satisfied you become, as pursuing something only reinforces the fact that you lack it in the first place. Philosopher Alan Watts used to refer to as “The Backwards Law” (further reading: the hedonic treadmill).\n\nEverything worthwhile in life is won through surmounting the associated negative experience.\n\nPain and loss are inevitable and we should let go of trying to resist them.\n\nThe greatest truths in life are usually the most unpleasant to hear.\n\nWe suffer for the simple reason that suffering is biologically useful. It is nature’s preferred agent for inspiring change.\n\nDon’t hope for a life without problems. There’s no such thing. Instead, hope for a life full of good problems.\n\nProblems never stop; they merely get exchanged and/or upgraded.\n\nHappiness comes from problems you enjoy having and solving.\n\nNobody who is actually happy has to stand in front of a mirror and tell himself that he’s happy.\n\nEmotions are simply biological signals designed to nudge you in the direction of beneficial change.'''\n>>> print(summarize(text))",
      "execution_count": 1,
      "outputs": [
        {
          "output_type": "stream",
          "text": "Don’t hope for a life without problems.\nInstead, hope for a life full of good problems.\nEmotions are simply biological signals designed to nudge you in the direction of beneficial change.\n",
          "name": "stdout"
        }
      ]
    },
    {
      "metadata": {
        "trusted": true
      },
      "cell_type": "code",
      "source": "",
      "execution_count": null,
      "outputs": []
    }
  ],
  "metadata": {
    "kernelspec": {
      "name": "python36",
      "display_name": "Python 3.6",
      "language": "python"
    },
    "language_info": {
      "mimetype": "text/x-python",
      "nbconvert_exporter": "python",
      "name": "python",
      "pygments_lexer": "ipython3",
      "version": "3.6.6",
      "file_extension": ".py",
      "codemirror_mode": {
        "version": 3,
        "name": "ipython"
      }
    }
  },
  "nbformat": 4,
  "nbformat_minor": 2
}